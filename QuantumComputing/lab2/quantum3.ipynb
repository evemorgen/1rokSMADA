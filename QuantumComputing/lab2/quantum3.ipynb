{
 "cells": [
  {
   "cell_type": "code",
   "execution_count": 1,
   "metadata": {},
   "outputs": [
    {
     "data": {
      "text/plain": [
       "0"
      ]
     },
     "execution_count": 1,
     "metadata": {},
     "output_type": "execute_result"
    }
   ],
   "source": [
    "import subprocess\n",
    "subprocess.call([\"pip\", \"install\", \"projectq\"])"
   ]
  },
  {
   "cell_type": "code",
   "execution_count": 2,
   "metadata": {},
   "outputs": [],
   "source": [
    "from projectq import MainEngine\n",
    "\n",
    "# H = Hadamard gate, H|0> -> (|0> + |1>)/sqrt(2)\n",
    "#                    H|1> -> (|0> - |1>)/sqrt(2)\n",
    "# X = Pauli X (not) gate.  X|0> -> |1>\n",
    "#                          X|1> -> |0>\n",
    "# Z = Pauli Z gate  Z|0> -> |0>\n",
    "#                   Z|1> -> -|1>\n",
    "# Measure - perform measurment on a given qubit\n",
    "# All - performs operation on all qubits in given register\n",
    "from projectq.ops import H, Z, X, Measure, All\n",
    "\n",
    "# Loop - in quantum computing there is no such thing as classical loop. It just duplicates given operation n times\n",
    "# Control - acts like an if statement, code inside is executed based on qubit value passed as argument\n",
    "from projectq.meta import Loop, Compute, Uncompute, Control"
   ]
  },
  {
   "cell_type": "code",
   "execution_count": 12,
   "metadata": {},
   "outputs": [
    {
     "ename": "AttributeError",
     "evalue": "'MainEngine' object has no attribute 'get_probability'",
     "output_type": "error",
     "traceback": [
      "\u001b[0;31m---------------------------------------------------------------------------\u001b[0m",
      "\u001b[0;31mAttributeError\u001b[0m                            Traceback (most recent call last)",
      "\u001b[0;32m<ipython-input-12-19c8b991396b>\u001b[0m in \u001b[0;36m<module>\u001b[0;34m\u001b[0m\n\u001b[1;32m      2\u001b[0m \u001b[0;31m# create quantum register with 4 qubits, all in state |0>\u001b[0m\u001b[0;34m\u001b[0m\u001b[0;34m\u001b[0m\u001b[0;34m\u001b[0m\u001b[0m\n\u001b[1;32m      3\u001b[0m \u001b[0mregister\u001b[0m \u001b[0;34m=\u001b[0m \u001b[0mengine\u001b[0m\u001b[0;34m.\u001b[0m\u001b[0mallocate_qureg\u001b[0m\u001b[0;34m(\u001b[0m\u001b[0;36m4\u001b[0m\u001b[0;34m)\u001b[0m\u001b[0;34m\u001b[0m\u001b[0;34m\u001b[0m\u001b[0m\n\u001b[0;32m----> 4\u001b[0;31m \u001b[0mengine\u001b[0m\u001b[0;34m.\u001b[0m\u001b[0mget_probability\u001b[0m\u001b[0;34m(\u001b[0m\u001b[0;34m\"0010\"\u001b[0m\u001b[0;34m,\u001b[0m\u001b[0mregister\u001b[0m\u001b[0;34m)\u001b[0m\u001b[0;34m\u001b[0m\u001b[0;34m\u001b[0m\u001b[0m\n\u001b[0m\u001b[1;32m      5\u001b[0m \u001b[0;31m# allocate one qubit, starts with state |0>\u001b[0m\u001b[0;34m\u001b[0m\u001b[0;34m\u001b[0m\u001b[0;34m\u001b[0m\u001b[0m\n\u001b[1;32m      6\u001b[0m \u001b[0mfunction_out\u001b[0m \u001b[0;34m=\u001b[0m \u001b[0mengine\u001b[0m\u001b[0;34m.\u001b[0m\u001b[0mallocate_qubit\u001b[0m\u001b[0;34m(\u001b[0m\u001b[0;34m)\u001b[0m\u001b[0;34m\u001b[0m\u001b[0;34m\u001b[0m\u001b[0m\n",
      "\u001b[0;31mAttributeError\u001b[0m: 'MainEngine' object has no attribute 'get_probability'"
     ]
    }
   ],
   "source": [
    "engine = MainEngine()\n",
    "# create quantum register with 4 qubits, all in state |0>\n",
    "register = engine.allocate_qureg(4)\n",
    "# allocate one qubit, starts with state |0> \n",
    "function_out = engine.allocate_qubit()"
   ]
  },
  {
   "cell_type": "code",
   "execution_count": 4,
   "metadata": {},
   "outputs": [],
   "source": [
    "# apply hadamard gate to all qubits in register\n",
    "# H|0> -> (|0> + |1>)/sqrt(2)\n",
    "All(H) | register"
   ]
  },
  {
   "cell_type": "code",
   "execution_count": 5,
   "metadata": {},
   "outputs": [],
   "source": [
    "# X|0> -> |1>\n",
    "X | function_out\n",
    "# H|1> -> (|0> - |1>)/sqrt(2)\n",
    "H | function_out"
   ]
  },
  {
   "cell_type": "code",
   "execution_count": 6,
   "metadata": {},
   "outputs": [],
   "source": [
    "def magic_function(qubits, output):\n",
    "    # flip 0,1,3 qubits, so 0000 -> 1101, but 0010 -> 1111\n",
    "    with Compute(engine):\n",
    "        X | qubits[0]\n",
    "        X | qubits[1]\n",
    "        X | qubits[3]\n",
    "    # if all qubits in register are 1\n",
    "    with Control(engine, qubits):\n",
    "        # X(|0> - |1>)/sqrt(2) -> (|1> - |0>)/sqrt(2)\n",
    "        X | output\n",
    "    Uncompute(engine)"
   ]
  },
  {
   "cell_type": "code",
   "execution_count": 7,
   "metadata": {},
   "outputs": [],
   "source": [
    "with Loop(engine, 4):\n",
    "    magic_function(register, function_out)\n",
    "    \n",
    "    with Compute(engine):\n",
    "        # H(|0> + |1>)/sqrt(2) -> |0>\n",
    "        All(H) | register\n",
    "        # X |0> -> |1>\n",
    "        All(X) | register\n",
    "        \n",
    "    with Control(engine, register[0:-1]):\n",
    "        Z | register[-1]\n",
    "    \n",
    "    Uncompute(engine)"
   ]
  },
  {
   "cell_type": "code",
   "execution_count": 8,
   "metadata": {},
   "outputs": [],
   "source": [
    "All(Measure) | register\n",
    "Measure | function_out"
   ]
  },
  {
   "cell_type": "code",
   "execution_count": 9,
   "metadata": {},
   "outputs": [],
   "source": [
    "engine.flush()"
   ]
  },
  {
   "cell_type": "code",
   "execution_count": 10,
   "metadata": {},
   "outputs": [
    {
     "name": "stdout",
     "output_type": "stream",
     "text": [
      "[0, 0, 1, 0]\n",
      "True\n"
     ]
    }
   ],
   "source": [
    "print([int(qubit) for qubit in register])\n",
    "print(bool(function_out))"
   ]
  },
  {
   "cell_type": "code",
   "execution_count": null,
   "metadata": {},
   "outputs": [],
   "source": []
  },
  {
   "cell_type": "code",
   "execution_count": null,
   "metadata": {},
   "outputs": [],
   "source": []
  },
  {
   "cell_type": "code",
   "execution_count": null,
   "metadata": {},
   "outputs": [],
   "source": []
  },
  {
   "cell_type": "code",
   "execution_count": null,
   "metadata": {},
   "outputs": [],
   "source": []
  }
 ],
 "metadata": {
  "kernelspec": {
   "display_name": "Python 3",
   "language": "python",
   "name": "python3"
  },
  "language_info": {
   "codemirror_mode": {
    "name": "ipython",
    "version": 3
   },
   "file_extension": ".py",
   "mimetype": "text/x-python",
   "name": "python",
   "nbconvert_exporter": "python",
   "pygments_lexer": "ipython3",
   "version": "3.7.3"
  }
 },
 "nbformat": 4,
 "nbformat_minor": 2
}
