{
 "cells": [
  {
   "cell_type": "code",
   "execution_count": 10,
   "metadata": {},
   "outputs": [],
   "source": [
    "from sklearn import datasets\n",
    "from pandas import DataFrame"
   ]
  },
  {
   "cell_type": "code",
   "execution_count": 36,
   "metadata": {},
   "outputs": [
    {
     "data": {
      "text/html": [
       "<div>\n",
       "<style scoped>\n",
       "    .dataframe tbody tr th:only-of-type {\n",
       "        vertical-align: middle;\n",
       "    }\n",
       "\n",
       "    .dataframe tbody tr th {\n",
       "        vertical-align: top;\n",
       "    }\n",
       "\n",
       "    .dataframe thead th {\n",
       "        text-align: right;\n",
       "    }\n",
       "</style>\n",
       "<table border=\"1\" class=\"dataframe\">\n",
       "  <thead>\n",
       "    <tr style=\"text-align: right;\">\n",
       "      <th></th>\n",
       "      <th>sepal length (cm)</th>\n",
       "      <th>sepal width (cm)</th>\n",
       "      <th>petal length (cm)</th>\n",
       "      <th>petal width (cm)</th>\n",
       "    </tr>\n",
       "  </thead>\n",
       "  <tbody>\n",
       "    <tr>\n",
       "      <th>0</th>\n",
       "      <td>5.1</td>\n",
       "      <td>3.5</td>\n",
       "      <td>1.4</td>\n",
       "      <td>0.2</td>\n",
       "    </tr>\n",
       "    <tr>\n",
       "      <th>1</th>\n",
       "      <td>4.9</td>\n",
       "      <td>3.0</td>\n",
       "      <td>1.4</td>\n",
       "      <td>0.2</td>\n",
       "    </tr>\n",
       "    <tr>\n",
       "      <th>2</th>\n",
       "      <td>4.7</td>\n",
       "      <td>3.2</td>\n",
       "      <td>1.3</td>\n",
       "      <td>0.2</td>\n",
       "    </tr>\n",
       "    <tr>\n",
       "      <th>3</th>\n",
       "      <td>4.6</td>\n",
       "      <td>3.1</td>\n",
       "      <td>1.5</td>\n",
       "      <td>0.2</td>\n",
       "    </tr>\n",
       "    <tr>\n",
       "      <th>4</th>\n",
       "      <td>5.0</td>\n",
       "      <td>3.6</td>\n",
       "      <td>1.4</td>\n",
       "      <td>0.2</td>\n",
       "    </tr>\n",
       "  </tbody>\n",
       "</table>\n",
       "</div>"
      ],
      "text/plain": [
       "   sepal length (cm)  sepal width (cm)  petal length (cm)  petal width (cm)\n",
       "0                5.1               3.5                1.4               0.2\n",
       "1                4.9               3.0                1.4               0.2\n",
       "2                4.7               3.2                1.3               0.2\n",
       "3                4.6               3.1                1.5               0.2\n",
       "4                5.0               3.6                1.4               0.2"
      ]
     },
     "execution_count": 36,
     "metadata": {},
     "output_type": "execute_result"
    }
   ],
   "source": [
    "raw_data = datasets.load_iris()\n",
    "irises = DataFrame(data=raw_data.data, columns=raw_data.feature_names)\n",
    "irises.head()"
   ]
  },
  {
   "cell_type": "code",
   "execution_count": 34,
   "metadata": {},
   "outputs": [
    {
     "name": "stdout",
     "output_type": "stream",
     "text": [
      "rows: 150, cols: 4\n"
     ]
    }
   ],
   "source": [
    "# 1. How many rows does it contain? How many columns? \n",
    "rows, cols = irises.shape\n",
    "print(f\"rows: {rows}, cols: {cols}\")"
   ]
  },
  {
   "cell_type": "code",
   "execution_count": 26,
   "metadata": {},
   "outputs": [
    {
     "data": {
      "text/plain": [
       "5.843333333333334"
      ]
     },
     "execution_count": 26,
     "metadata": {},
     "output_type": "execute_result"
    }
   ],
   "source": [
    "# 2. Compute the average petal length. \n",
    "irises['sepal length (cm)'].mean()"
   ]
  },
  {
   "cell_type": "code",
   "execution_count": 27,
   "metadata": {},
   "outputs": [
    {
     "data": {
      "text/plain": [
       "sepal length (cm)    5.843333\n",
       "sepal width (cm)     3.057333\n",
       "petal length (cm)    3.758000\n",
       "petal width (cm)     1.199333\n",
       "dtype: float64"
      ]
     },
     "execution_count": 27,
     "metadata": {},
     "output_type": "execute_result"
    }
   ],
   "source": [
    "# 3. Compute the average of each numerical column (using one instruction). \n",
    "irises.mean()"
   ]
  },
  {
   "cell_type": "code",
   "execution_count": 42,
   "metadata": {},
   "outputs": [
    {
     "name": "stdout",
     "output_type": "stream",
     "text": [
      "Number of outliers: 19\n",
      "First three are:       sepal length (cm)  sepal width (cm)  petal length (cm)  petal width (cm)\n",
      "100                6.3               3.3                6.0               2.5\n",
      "102                7.1               3.0                5.9               2.1\n",
      "104                6.5               3.0                5.8               2.2\n"
     ]
    }
   ],
   "source": [
    "# 4. Extract the petal length outliers (i.e. those rows whose petal length is 50% greater than the average \n",
    "#    petal length). Print the number of outliers and three examples of outliers. \n",
    "\n",
    "petal_mean = irises['petal length (cm)'].mean()\n",
    "outliers = irises[irises['petal length (cm)'] > 1.5 * petal_mean]\n",
    "print(f\"Number of outliers: {len(outliers)}\")\n",
    "print(\"First three are: \", outliers.head(n=3))"
   ]
  },
  {
   "cell_type": "code",
   "execution_count": 55,
   "metadata": {},
   "outputs": [
    {
     "name": "stdout",
     "output_type": "stream",
     "text": [
      "setosa: sepal length (cm)    0.352490\n",
      "sepal width (cm)     0.379064\n",
      "petal length (cm)    0.173664\n",
      "petal width (cm)     0.105386\n",
      "species              0.000000\n",
      "dtype: float64\n",
      "\n",
      "versicolor: sepal length (cm)    0.516171\n",
      "sepal width (cm)     0.313798\n",
      "petal length (cm)    0.469911\n",
      "petal width (cm)     0.197753\n",
      "species              0.000000\n",
      "dtype: float64\n",
      "\n",
      "virginica: sepal length (cm)    0.635880\n",
      "sepal width (cm)     0.322497\n",
      "petal length (cm)    0.551895\n",
      "petal width (cm)     0.274650\n",
      "species              0.000000\n",
      "dtype: float64\n",
      "\n"
     ]
    }
   ],
   "source": [
    "# 5. Compute the standard deviation of each numerical feature, for each iris species (don't use any loops).\n",
    "with_species = irises.assign(species=raw_data.target)\n",
    "setosa = with_species[with_species['species'] == 0].std()\n",
    "versicolor = with_species[with_species['species'] == 1].std()\n",
    "virginica = with_species[with_species['species'] == 2].std()\n",
    "print(f\"setosa: {setosa}\\n\")\n",
    "print(f\"versicolor: {versicolor}\\n\")\n",
    "print(f\"virginica: {virginica}\\n\")"
   ]
  },
  {
   "cell_type": "code",
   "execution_count": 57,
   "metadata": {},
   "outputs": [
    {
     "name": "stdout",
     "output_type": "stream",
     "text": [
      "setosa outliers: 0\n",
      "versicolor outliers: 0\n",
      "virginica outliers: 19\n"
     ]
    }
   ],
   "source": [
    "# 6. Extract the petal length outliers for each iris species separately, as a DataFrame object. \n",
    "#    Outliers has petal length 50% greater than the average petal length within the whole dataset\n",
    "#.  (you can use one for loop here).\n",
    "\n",
    "petal_mean = irises['petal length (cm)'].mean()\n",
    "with_species = irises.assign(species=raw_data.target)\n",
    "setosa = with_species[with_species['species'] == 0]\n",
    "versicolor = with_species[with_species['species'] == 1]\n",
    "virginica = with_species[with_species['species'] == 2]\n",
    "\n",
    "setosa_outliers = setosa[setosa['petal length (cm)'] > 1.5 * petal_mean]\n",
    "versicolor_outliers = versicolor[versicolor['petal length (cm)'] > 1.5 * petal_mean]\n",
    "virginica_outliers = virginica[virginica['petal length (cm)'] > 1.5 * petal_mean]\n",
    "\n",
    "print(f\"setosa outliers: {len(setosa_outliers)}\")\n",
    "print(f\"versicolor outliers: {len(versicolor_outliers)}\")\n",
    "print(f\"virginica outliers: {len(virginica_outliers)}\")"
   ]
  },
  {
   "cell_type": "code",
   "execution_count": null,
   "metadata": {},
   "outputs": [],
   "source": [
    "\n"
   ]
  }
 ],
 "metadata": {
  "kernelspec": {
   "display_name": "Python 3",
   "language": "python",
   "name": "python3"
  },
  "language_info": {
   "codemirror_mode": {
    "name": "ipython",
    "version": 3
   },
   "file_extension": ".py",
   "mimetype": "text/x-python",
   "name": "python",
   "nbconvert_exporter": "python",
   "pygments_lexer": "ipython3",
   "version": "3.6.7"
  }
 },
 "nbformat": 4,
 "nbformat_minor": 2
}
